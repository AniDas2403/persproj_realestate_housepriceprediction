{
 "cells": [
  {
   "cell_type": "code",
   "execution_count": 1,
   "id": "incorporate-armstrong",
   "metadata": {},
   "outputs": [],
   "source": [
    "from keras.models import Sequential\n",
    "from keras.layers import Dense, LSTM\n",
    "import numpy as np\n",
    "import pandas as pd\n",
    "import keras\n",
    "import tensorflow as tf\n",
    "import matplotlib.pyplot as plt\n",
    "from matplotlib import style\n",
    "import sklearn\n",
    "from sklearn.model_selection import train_test_split\n",
    "from sklearn.preprocessing import MinMaxScaler\n",
    "from sklearn import preprocessing, svm, metrics  \n",
    "import math\n",
    "from keras import metrics\n",
    "from sklearn.metrics import accuracy_score\n",
    "from sklearn.metrics import confusion_matrix"
   ]
  },
  {
   "cell_type": "code",
   "execution_count": 2,
   "id": "worth-algebra",
   "metadata": {},
   "outputs": [],
   "source": [
    "data = pd.read_csv('./Real estate.csv', index_col=False)"
   ]
  },
  {
   "cell_type": "code",
   "execution_count": 3,
   "id": "signal-courtesy",
   "metadata": {},
   "outputs": [
    {
     "data": {
      "text/html": [
       "<div>\n",
       "<style scoped>\n",
       "    .dataframe tbody tr th:only-of-type {\n",
       "        vertical-align: middle;\n",
       "    }\n",
       "\n",
       "    .dataframe tbody tr th {\n",
       "        vertical-align: top;\n",
       "    }\n",
       "\n",
       "    .dataframe thead th {\n",
       "        text-align: right;\n",
       "    }\n",
       "</style>\n",
       "<table border=\"1\" class=\"dataframe\">\n",
       "  <thead>\n",
       "    <tr style=\"text-align: right;\">\n",
       "      <th></th>\n",
       "      <th>No</th>\n",
       "      <th>X1 transaction date</th>\n",
       "      <th>X2 house age</th>\n",
       "      <th>X3 distance to the nearest MRT station</th>\n",
       "      <th>X4 number of convenience stores</th>\n",
       "      <th>X5 latitude</th>\n",
       "      <th>X6 longitude</th>\n",
       "      <th>Y house price of unit area</th>\n",
       "    </tr>\n",
       "  </thead>\n",
       "  <tbody>\n",
       "    <tr>\n",
       "      <th>0</th>\n",
       "      <td>1</td>\n",
       "      <td>2012.917</td>\n",
       "      <td>32.0</td>\n",
       "      <td>84.87882</td>\n",
       "      <td>10</td>\n",
       "      <td>24.98298</td>\n",
       "      <td>121.54024</td>\n",
       "      <td>37.9</td>\n",
       "    </tr>\n",
       "    <tr>\n",
       "      <th>1</th>\n",
       "      <td>2</td>\n",
       "      <td>2012.917</td>\n",
       "      <td>19.5</td>\n",
       "      <td>306.59470</td>\n",
       "      <td>9</td>\n",
       "      <td>24.98034</td>\n",
       "      <td>121.53951</td>\n",
       "      <td>42.2</td>\n",
       "    </tr>\n",
       "    <tr>\n",
       "      <th>2</th>\n",
       "      <td>3</td>\n",
       "      <td>2013.583</td>\n",
       "      <td>13.3</td>\n",
       "      <td>561.98450</td>\n",
       "      <td>5</td>\n",
       "      <td>24.98746</td>\n",
       "      <td>121.54391</td>\n",
       "      <td>47.3</td>\n",
       "    </tr>\n",
       "    <tr>\n",
       "      <th>3</th>\n",
       "      <td>4</td>\n",
       "      <td>2013.500</td>\n",
       "      <td>13.3</td>\n",
       "      <td>561.98450</td>\n",
       "      <td>5</td>\n",
       "      <td>24.98746</td>\n",
       "      <td>121.54391</td>\n",
       "      <td>54.8</td>\n",
       "    </tr>\n",
       "    <tr>\n",
       "      <th>4</th>\n",
       "      <td>5</td>\n",
       "      <td>2012.833</td>\n",
       "      <td>5.0</td>\n",
       "      <td>390.56840</td>\n",
       "      <td>5</td>\n",
       "      <td>24.97937</td>\n",
       "      <td>121.54245</td>\n",
       "      <td>43.1</td>\n",
       "    </tr>\n",
       "  </tbody>\n",
       "</table>\n",
       "</div>"
      ],
      "text/plain": [
       "   No  X1 transaction date  X2 house age  \\\n",
       "0   1             2012.917          32.0   \n",
       "1   2             2012.917          19.5   \n",
       "2   3             2013.583          13.3   \n",
       "3   4             2013.500          13.3   \n",
       "4   5             2012.833           5.0   \n",
       "\n",
       "   X3 distance to the nearest MRT station  X4 number of convenience stores  \\\n",
       "0                                84.87882                               10   \n",
       "1                               306.59470                                9   \n",
       "2                               561.98450                                5   \n",
       "3                               561.98450                                5   \n",
       "4                               390.56840                                5   \n",
       "\n",
       "   X5 latitude  X6 longitude  Y house price of unit area  \n",
       "0     24.98298     121.54024                        37.9  \n",
       "1     24.98034     121.53951                        42.2  \n",
       "2     24.98746     121.54391                        47.3  \n",
       "3     24.98746     121.54391                        54.8  \n",
       "4     24.97937     121.54245                        43.1  "
      ]
     },
     "execution_count": 3,
     "metadata": {},
     "output_type": "execute_result"
    }
   ],
   "source": [
    "data.head()"
   ]
  },
  {
   "cell_type": "code",
   "execution_count": 4,
   "id": "amended-richardson",
   "metadata": {},
   "outputs": [
    {
     "name": "stdout",
     "output_type": "stream",
     "text": [
      "414\n"
     ]
    }
   ],
   "source": [
    "L = len(data)\n",
    "print(L)"
   ]
  },
  {
   "cell_type": "code",
   "execution_count": 5,
   "id": "falling-hypothetical",
   "metadata": {},
   "outputs": [
    {
     "data": {
      "text/html": [
       "<div>\n",
       "<style scoped>\n",
       "    .dataframe tbody tr th:only-of-type {\n",
       "        vertical-align: middle;\n",
       "    }\n",
       "\n",
       "    .dataframe tbody tr th {\n",
       "        vertical-align: top;\n",
       "    }\n",
       "\n",
       "    .dataframe thead th {\n",
       "        text-align: right;\n",
       "    }\n",
       "</style>\n",
       "<table border=\"1\" class=\"dataframe\">\n",
       "  <thead>\n",
       "    <tr style=\"text-align: right;\">\n",
       "      <th></th>\n",
       "      <th>X2 house age</th>\n",
       "      <th>X3 distance to the nearest MRT station</th>\n",
       "      <th>X4 number of convenience stores</th>\n",
       "      <th>X5 latitude</th>\n",
       "      <th>X6 longitude</th>\n",
       "    </tr>\n",
       "  </thead>\n",
       "  <tbody>\n",
       "    <tr>\n",
       "      <th>0</th>\n",
       "      <td>32.0</td>\n",
       "      <td>84.87882</td>\n",
       "      <td>10</td>\n",
       "      <td>24.98298</td>\n",
       "      <td>121.54024</td>\n",
       "    </tr>\n",
       "    <tr>\n",
       "      <th>1</th>\n",
       "      <td>19.5</td>\n",
       "      <td>306.59470</td>\n",
       "      <td>9</td>\n",
       "      <td>24.98034</td>\n",
       "      <td>121.53951</td>\n",
       "    </tr>\n",
       "    <tr>\n",
       "      <th>2</th>\n",
       "      <td>13.3</td>\n",
       "      <td>561.98450</td>\n",
       "      <td>5</td>\n",
       "      <td>24.98746</td>\n",
       "      <td>121.54391</td>\n",
       "    </tr>\n",
       "    <tr>\n",
       "      <th>3</th>\n",
       "      <td>13.3</td>\n",
       "      <td>561.98450</td>\n",
       "      <td>5</td>\n",
       "      <td>24.98746</td>\n",
       "      <td>121.54391</td>\n",
       "    </tr>\n",
       "    <tr>\n",
       "      <th>4</th>\n",
       "      <td>5.0</td>\n",
       "      <td>390.56840</td>\n",
       "      <td>5</td>\n",
       "      <td>24.97937</td>\n",
       "      <td>121.54245</td>\n",
       "    </tr>\n",
       "  </tbody>\n",
       "</table>\n",
       "</div>"
      ],
      "text/plain": [
       "   X2 house age  X3 distance to the nearest MRT station  \\\n",
       "0          32.0                                84.87882   \n",
       "1          19.5                               306.59470   \n",
       "2          13.3                               561.98450   \n",
       "3          13.3                               561.98450   \n",
       "4           5.0                               390.56840   \n",
       "\n",
       "   X4 number of convenience stores  X5 latitude  X6 longitude  \n",
       "0                               10     24.98298     121.54024  \n",
       "1                                9     24.98034     121.53951  \n",
       "2                                5     24.98746     121.54391  \n",
       "3                                5     24.98746     121.54391  \n",
       "4                                5     24.97937     121.54245  "
      ]
     },
     "execution_count": 5,
     "metadata": {},
     "output_type": "execute_result"
    }
   ],
   "source": [
    "X = data[['X2 house age', 'X3 distance to the nearest MRT station', 'X4 number of convenience stores', 'X5 latitude', 'X6 longitude']]\n",
    "X.head()"
   ]
  },
  {
   "cell_type": "code",
   "execution_count": 6,
   "id": "collectible-pakistan",
   "metadata": {},
   "outputs": [
    {
     "data": {
      "text/html": [
       "<div>\n",
       "<style scoped>\n",
       "    .dataframe tbody tr th:only-of-type {\n",
       "        vertical-align: middle;\n",
       "    }\n",
       "\n",
       "    .dataframe tbody tr th {\n",
       "        vertical-align: top;\n",
       "    }\n",
       "\n",
       "    .dataframe thead th {\n",
       "        text-align: right;\n",
       "    }\n",
       "</style>\n",
       "<table border=\"1\" class=\"dataframe\">\n",
       "  <thead>\n",
       "    <tr style=\"text-align: right;\">\n",
       "      <th></th>\n",
       "      <th>Y house price of unit area</th>\n",
       "    </tr>\n",
       "  </thead>\n",
       "  <tbody>\n",
       "    <tr>\n",
       "      <th>0</th>\n",
       "      <td>37.9</td>\n",
       "    </tr>\n",
       "    <tr>\n",
       "      <th>1</th>\n",
       "      <td>42.2</td>\n",
       "    </tr>\n",
       "    <tr>\n",
       "      <th>2</th>\n",
       "      <td>47.3</td>\n",
       "    </tr>\n",
       "    <tr>\n",
       "      <th>3</th>\n",
       "      <td>54.8</td>\n",
       "    </tr>\n",
       "    <tr>\n",
       "      <th>4</th>\n",
       "      <td>43.1</td>\n",
       "    </tr>\n",
       "  </tbody>\n",
       "</table>\n",
       "</div>"
      ],
      "text/plain": [
       "   Y house price of unit area\n",
       "0                        37.9\n",
       "1                        42.2\n",
       "2                        47.3\n",
       "3                        54.8\n",
       "4                        43.1"
      ]
     },
     "execution_count": 6,
     "metadata": {},
     "output_type": "execute_result"
    }
   ],
   "source": [
    "Y = data[['Y house price of unit area']]\n",
    "Y.head()"
   ]
  },
  {
   "cell_type": "code",
   "execution_count": 7,
   "id": "rural-miami",
   "metadata": {},
   "outputs": [],
   "source": [
    "def normalize_x(X1, X2, X3, X4, X5):\n",
    "    Z = []\n",
    "    x1min, x2min, x3min, x4min, x5min = np.amin(X1), np.amin(X2), np.amin(X3), np.amin(X4), np.amin(X5)\n",
    "    x1max, x2max, x3max, x4max, x5max = np.amax(X1), np.amax(X2), np.amax(X3), np.amax(X4), np.amax(X5)\n",
    "    d1, d2, d3, d4, d5 = x1max-x1min, x2max-x2min, x3max-x3min, x4max-x4min, x5max-x5min\n",
    "    for i in range(L):\n",
    "        q1 = (X1[i] - x1min)/d1\n",
    "        q2 = (X2[i] - x2min)/d2\n",
    "        q3 = (X3[i] - x3min)/d3\n",
    "        q4 = (X4[i] - x4min)/d4\n",
    "        q5 = (X5[i] - x5min)/d5\n",
    "        Z.append([q1,q2,q3,q4,q5])\n",
    "    Z = np.asarray(Z)\n",
    "    return Z"
   ]
  },
  {
   "cell_type": "code",
   "execution_count": 8,
   "id": "logical-senator",
   "metadata": {},
   "outputs": [
    {
     "name": "stdout",
     "output_type": "stream",
     "text": [
      "[[0.73059361 0.00951267 1.         0.61694135 0.71932284]\n",
      " [0.44520548 0.04380939 0.9        0.5849491  0.71145137]\n",
      " [0.30365297 0.08331505 0.5        0.67123122 0.75889584]\n",
      " [0.30365297 0.08331505 0.5        0.67123122 0.75889584]\n",
      " [0.11415525 0.05679909 0.5        0.57319438 0.7431529 ]]\n"
     ]
    }
   ],
   "source": [
    "Xn = normalize_x(X[['X2 house age'][0]], X[['X3 distance to the nearest MRT station'][0]], X[['X4 number of convenience stores'][0]], X[['X5 latitude'][0]], X[['X6 longitude'][0]])\n",
    "print(Xn[0:5])"
   ]
  },
  {
   "cell_type": "code",
   "execution_count": 9,
   "id": "textile-marble",
   "metadata": {},
   "outputs": [],
   "source": [
    "def normalize_y(Y):\n",
    "    Z = []\n",
    "    ymin = np.amin(Y)\n",
    "    ymax = np.amax(Y)\n",
    "    d = ymax - ymin\n",
    "    for i in range(len(Y)):\n",
    "        Z.append((Y[i] - ymin)/d)\n",
    "    Z = np.asarray(Z)\n",
    "    return Z"
   ]
  },
  {
   "cell_type": "code",
   "execution_count": 10,
   "id": "particular-index",
   "metadata": {},
   "outputs": [
    {
     "name": "stdout",
     "output_type": "stream",
     "text": [
      "[0.27570519 0.31483167 0.36123749 0.42948135 0.32302093]\n"
     ]
    }
   ],
   "source": [
    "Yn = normalize_y(Y[['Y house price of unit area'][0]])\n",
    "print(Yn[0:5])"
   ]
  },
  {
   "cell_type": "code",
   "execution_count": 11,
   "id": "registered-toilet",
   "metadata": {},
   "outputs": [],
   "source": [
    "X_train, X_test, Y_train, Y_test =  train_test_split(Xn, Yn, test_size=0.05, shuffle=True)"
   ]
  },
  {
   "cell_type": "code",
   "execution_count": 12,
   "id": "honey-november",
   "metadata": {},
   "outputs": [
    {
     "name": "stdout",
     "output_type": "stream",
     "text": [
      "X_train shape is: (393, 1, 5), X_test shape is: (21, 1, 5), Y_train shape is: (393,), Y_test shape is: (21,)\n"
     ]
    }
   ],
   "source": [
    "# reshaping X to [samples, timestamps, features]\n",
    "X_train = X_train.reshape((X_train.shape[0], 1, X_train.shape[1]))\n",
    "X_test = X_test.reshape((X_test.shape[0], 1, X_test.shape[1]))\n",
    "print(f\"X_train shape is: {X_train.shape}, X_test shape is: {X_test.shape}, Y_train shape is: {Y_train.shape}, Y_test shape is: {Y_test.shape}\")"
   ]
  },
  {
   "cell_type": "code",
   "execution_count": 13,
   "id": "optimum-hammer",
   "metadata": {},
   "outputs": [
    {
     "name": "stdout",
     "output_type": "stream",
     "text": [
      "Model: \"sequential\"\n",
      "_________________________________________________________________\n",
      " Layer (type)                Output Shape              Param #   \n",
      "=================================================================\n",
      " lstm (LSTM)                 (None, 1, 64)             17920     \n",
      "                                                                 \n",
      " lstm_1 (LSTM)               (None, 32)                12416     \n",
      "                                                                 \n",
      " dense (Dense)               (None, 16)                528       \n",
      "                                                                 \n",
      " dense_1 (Dense)             (None, 1)                 17        \n",
      "                                                                 \n",
      "=================================================================\n",
      "Total params: 30,881\n",
      "Trainable params: 30,881\n",
      "Non-trainable params: 0\n",
      "_________________________________________________________________\n",
      "None\n"
     ]
    }
   ],
   "source": [
    "M = Sequential()\n",
    "M.add(LSTM(64, input_shape=(X_train.shape[1],X_train.shape[2]), return_sequences=True))\n",
    "M.add(LSTM(32))\n",
    "M.add(Dense(16, activation='relu'))\n",
    "M.add(Dense(1))\n",
    "\n",
    "print(M.summary())"
   ]
  },
  {
   "cell_type": "code",
   "execution_count": 14,
   "id": "verbal-southeast",
   "metadata": {},
   "outputs": [],
   "source": [
    "Ymax = np.amax(Y[['Y house price of unit area'][0]]) \n",
    "Ymin = np.amin(Y[['Y house price of unit area'][0]])\n",
    "D = Ymax - Ymin"
   ]
  },
  {
   "cell_type": "code",
   "execution_count": 15,
   "id": "superior-sodium",
   "metadata": {},
   "outputs": [],
   "source": [
    "def rev_normalize(pr):\n",
    "    Z = []\n",
    "    for i in range(len(pr)):\n",
    "        Z.append((pr[i]*D)+Ymin)\n",
    "    Z = np.asarray(Z)\n",
    "    return Z"
   ]
  },
  {
   "cell_type": "code",
   "execution_count": 16,
   "id": "significant-greeting",
   "metadata": {},
   "outputs": [
    {
     "name": "stdout",
     "output_type": "stream",
     "text": [
      "Epoch 1/30\n",
      "7/7 [==============================] - 5s 168ms/step - loss: 0.2550 - mean_squared_error: 0.0804 - val_loss: 0.2462 - val_mean_squared_error: 0.0758\n",
      "Epoch 2/30\n",
      "7/7 [==============================] - 0s 8ms/step - loss: 0.2088 - mean_squared_error: 0.0584 - val_loss: 0.1899 - val_mean_squared_error: 0.0495\n",
      "Epoch 3/30\n",
      "7/7 [==============================] - 0s 8ms/step - loss: 0.1518 - mean_squared_error: 0.0352 - val_loss: 0.1305 - val_mean_squared_error: 0.0258\n",
      "Epoch 4/30\n",
      "7/7 [==============================] - 0s 7ms/step - loss: 0.1055 - mean_squared_error: 0.0187 - val_loss: 0.0903 - val_mean_squared_error: 0.0130\n",
      "Epoch 5/30\n",
      "7/7 [==============================] - 0s 7ms/step - loss: 0.0893 - mean_squared_error: 0.0133 - val_loss: 0.0879 - val_mean_squared_error: 0.0116\n",
      "Epoch 6/30\n",
      "7/7 [==============================] - 0s 7ms/step - loss: 0.0881 - mean_squared_error: 0.0127 - val_loss: 0.0825 - val_mean_squared_error: 0.0109\n",
      "Epoch 7/30\n",
      "7/7 [==============================] - 0s 7ms/step - loss: 0.0809 - mean_squared_error: 0.0116 - val_loss: 0.0826 - val_mean_squared_error: 0.0116\n",
      "Epoch 8/30\n",
      "7/7 [==============================] - 0s 8ms/step - loss: 0.0786 - mean_squared_error: 0.0113 - val_loss: 0.0757 - val_mean_squared_error: 0.0099\n",
      "Epoch 9/30\n",
      "7/7 [==============================] - 0s 8ms/step - loss: 0.0722 - mean_squared_error: 0.0097 - val_loss: 0.0694 - val_mean_squared_error: 0.0081\n",
      "Epoch 10/30\n",
      "7/7 [==============================] - 0s 8ms/step - loss: 0.0690 - mean_squared_error: 0.0088 - val_loss: 0.0642 - val_mean_squared_error: 0.0077\n",
      "Epoch 11/30\n",
      "7/7 [==============================] - 0s 8ms/step - loss: 0.0631 - mean_squared_error: 0.0083 - val_loss: 0.0614 - val_mean_squared_error: 0.0077\n",
      "Epoch 12/30\n",
      "7/7 [==============================] - 0s 8ms/step - loss: 0.0590 - mean_squared_error: 0.0078 - val_loss: 0.0563 - val_mean_squared_error: 0.0069\n",
      "Epoch 13/30\n",
      "7/7 [==============================] - 0s 7ms/step - loss: 0.0566 - mean_squared_error: 0.0073 - val_loss: 0.0575 - val_mean_squared_error: 0.0073\n",
      "Epoch 14/30\n",
      "7/7 [==============================] - 0s 7ms/step - loss: 0.0561 - mean_squared_error: 0.0076 - val_loss: 0.0560 - val_mean_squared_error: 0.0070\n",
      "Epoch 15/30\n",
      "7/7 [==============================] - 0s 7ms/step - loss: 0.0552 - mean_squared_error: 0.0071 - val_loss: 0.0569 - val_mean_squared_error: 0.0072\n",
      "Epoch 16/30\n",
      "7/7 [==============================] - 0s 9ms/step - loss: 0.0544 - mean_squared_error: 0.0072 - val_loss: 0.0596 - val_mean_squared_error: 0.0077\n",
      "Epoch 17/30\n",
      "7/7 [==============================] - 0s 10ms/step - loss: 0.0540 - mean_squared_error: 0.0072 - val_loss: 0.0566 - val_mean_squared_error: 0.0071\n",
      "Epoch 18/30\n",
      "7/7 [==============================] - 0s 9ms/step - loss: 0.0535 - mean_squared_error: 0.0068 - val_loss: 0.0564 - val_mean_squared_error: 0.0071\n",
      "Epoch 19/30\n",
      "7/7 [==============================] - 0s 9ms/step - loss: 0.0541 - mean_squared_error: 0.0072 - val_loss: 0.0575 - val_mean_squared_error: 0.0073\n",
      "Epoch 20/30\n",
      "7/7 [==============================] - 0s 10ms/step - loss: 0.0534 - mean_squared_error: 0.0067 - val_loss: 0.0560 - val_mean_squared_error: 0.0070\n",
      "Epoch 21/30\n",
      "7/7 [==============================] - 0s 8ms/step - loss: 0.0523 - mean_squared_error: 0.0068 - val_loss: 0.0573 - val_mean_squared_error: 0.0073\n",
      "Epoch 22/30\n",
      "7/7 [==============================] - 0s 8ms/step - loss: 0.0521 - mean_squared_error: 0.0066 - val_loss: 0.0560 - val_mean_squared_error: 0.0070\n",
      "Epoch 23/30\n",
      "7/7 [==============================] - 0s 7ms/step - loss: 0.0514 - mean_squared_error: 0.0066 - val_loss: 0.0576 - val_mean_squared_error: 0.0074\n",
      "Epoch 24/30\n",
      "7/7 [==============================] - 0s 7ms/step - loss: 0.0515 - mean_squared_error: 0.0067 - val_loss: 0.0554 - val_mean_squared_error: 0.0070\n",
      "Epoch 25/30\n",
      "7/7 [==============================] - 0s 7ms/step - loss: 0.0511 - mean_squared_error: 0.0064 - val_loss: 0.0557 - val_mean_squared_error: 0.0070\n",
      "Epoch 26/30\n",
      "7/7 [==============================] - 0s 10ms/step - loss: 0.0513 - mean_squared_error: 0.0067 - val_loss: 0.0552 - val_mean_squared_error: 0.0069\n",
      "Epoch 27/30\n",
      "7/7 [==============================] - 0s 14ms/step - loss: 0.0514 - mean_squared_error: 0.0063 - val_loss: 0.0550 - val_mean_squared_error: 0.0069\n",
      "Epoch 28/30\n",
      "7/7 [==============================] - 0s 11ms/step - loss: 0.0509 - mean_squared_error: 0.0066 - val_loss: 0.0544 - val_mean_squared_error: 0.0067\n",
      "Epoch 29/30\n",
      "7/7 [==============================] - 0s 19ms/step - loss: 0.0519 - mean_squared_error: 0.0063 - val_loss: 0.0550 - val_mean_squared_error: 0.0068\n",
      "Epoch 30/30\n",
      "7/7 [==============================] - 0s 17ms/step - loss: 0.0514 - mean_squared_error: 0.0067 - val_loss: 0.0542 - val_mean_squared_error: 0.0067\n"
     ]
    }
   ],
   "source": [
    "M.compile(loss='mean_absolute_error', optimizer='adam', metrics=['mean_squared_error'])\n",
    "h = M.fit(X_train, Y_train, epochs=30, batch_size=50, verbose=1, validation_split=0.2)"
   ]
  },
  {
   "cell_type": "code",
   "execution_count": 17,
   "id": "associate-tourism",
   "metadata": {},
   "outputs": [
    {
     "name": "stdout",
     "output_type": "stream",
     "text": [
      "Accuracy is: 0.047570113346566245\n",
      "Predictions:\n",
      "[[35.10943 ]\n",
      " [16.251408]\n",
      " [45.625374]\n",
      " [16.159048]\n",
      " [28.454739]\n",
      " [46.488407]\n",
      " [44.621414]\n",
      " [15.811779]\n",
      " [34.319443]\n",
      " [37.229637]\n",
      " [38.770092]\n",
      " [44.658173]\n",
      " [28.009403]\n",
      " [21.586283]\n",
      " [27.547056]\n",
      " [47.50829 ]\n",
      " [53.776432]\n",
      " [42.38387 ]\n",
      " [44.06574 ]\n",
      " [29.595373]\n",
      " [50.29799 ]]\n",
      "Expected values:\n",
      "[37.4 15.6 51.  20.5 23.9 53.3 51.6 18.6 50.5 36.5 46.  51.8 37.  19.1\n",
      " 26.6 56.8 56.3 45.4 34.4 28.9 43.2]\n"
     ]
    }
   ],
   "source": [
    "import sklearn.metrics as metrics\n",
    "\n",
    "p = M.predict(X_test)\n",
    "P = rev_normalize(p)\n",
    "\n",
    "yt = rev_normalize(Y_test)\n",
    "\n",
    "# Accuracy evaluation\n",
    "A = sklearn.metrics.mean_absolute_error(Y_test, p)           # Best possibe result would be 0.0\n",
    "print(\"Accuracy is:\", A)\n",
    "\n",
    "np.set_printoptions(suppress=True)\n",
    "\n",
    "# Printing results\n",
    "print(\"Predictions:\")\n",
    "print(P)\n",
    "print(\"Expected values:\")\n",
    "print(yt)"
   ]
  },
  {
   "cell_type": "code",
   "execution_count": 18,
   "id": "herbal-original",
   "metadata": {},
   "outputs": [
    {
     "data": {
      "text/plain": [
       "<Figure size 2160x1440 with 0 Axes>"
      ]
     },
     "execution_count": 18,
     "metadata": {},
     "output_type": "execute_result"
    },
    {
     "data": {
      "image/png": "[encoded data removed]",
      "text/plain": [
       "<Figure size 432x288 with 1 Axes>"
      ]
     },
     "metadata": {
      "needs_background": "light"
     },
     "output_type": "display_data"
    },
    {
     "data": {
      "text/plain": [
       "<Figure size 2160x1440 with 0 Axes>"
      ]
     },
     "metadata": {},
     "output_type": "display_data"
    }
   ],
   "source": [
    "L_t = range(len(yt))\n",
    "ylabels = []\n",
    "for i in range(math.floor(np.amin(yt)-3),math.ceil(np.amax(yt)+3),5):\n",
    "    ylabels.append(i)\n",
    "plt.yticks(ylabels,ylabels)\n",
    "plt.plot(L_t, P, 'r', linestyle='--', marker='o', label=\"Predictions\")\n",
    "plt.plot(L_t, yt, 'b', linestyle='--', marker='o', label=\"Expected Values\")\n",
    "plt.title('Predictions vs Expected Values comparison for first 100 values')\n",
    "plt.legend(loc='best')\n",
    "plt.figure(figsize=(30,20))"
   ]
  }
 ],
 "metadata": {
  "kernelspec": {
   "display_name": "Python 3",
   "language": "python",
   "name": "python3"
  },
  "language_info": {
   "codemirror_mode": {
    "name": "ipython",
    "version": 3
   },
   "file_extension": ".py",
   "mimetype": "text/x-python",
   "name": "python",
   "nbconvert_exporter": "python",
   "pygments_lexer": "ipython3",
   "version": "3.8.3"
  }
 },
 "nbformat": 4,
 "nbformat_minor": 5
}
